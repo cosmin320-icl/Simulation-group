{
 "cells": [
  {
   "cell_type": "code",
   "execution_count": null,
   "metadata": {},
   "outputs": [],
   "source": [
    "import numpy as np\n",
    "from numpy import random as rnd\n",
    "import Functions as func\n",
    "import matplotlib.pyplot as plt\n",
    "import matplotlib as mpl"
   ]
  },
  {
   "cell_type": "markdown",
   "metadata": {},
   "source": [
    "# To do\n",
    "- Integrate with matrix\n",
    "- create a fetch date from voxel function\n",
    "\n",
    "# Questions for Stefano\n",
    "- Is the random number the same for the whole loop?\n",
    "- anisoropy for the different tissues?\n",
    "    Saw in a CalTech pres that it was 0.9 for most biological tissues, so we'll use that"
   ]
  },
  {
   "cell_type": "code",
   "execution_count": null,
   "metadata": {},
   "outputs": [],
   "source": [
    "#Variables to be declared in the beginning\n",
    "#for the source\n",
    "point = np.array([10, -3, 9]) #The coordinate in space where the source is Should be a numpy array\n",
    "vector = np.array([1, 1, 1]) #direction the source is pointing, should be a numpy array\n",
    "\n",
    "#scalingFactor to go from units of cm to 0.33mm\n",
    "scaleFactor = 1 / (0.33*10**(-1))\n",
    "\n",
    "#Materials info for VIS excitation (wavelength 488nm)\n",
    "visExSkin = {'u_a' : 6.0, 'u_s' : 625, 'n' : 1.37}\n",
    "visExfat = {'u_a' : 6.0, 'u_s' : 310, 'n' : 1.45}\n",
    "visExDuct = {'u_a' : 0.2, 'u_s' : 317, 'n' : 1.42}\n",
    "cvisExCancer = {'u_a' : 1.0, 'u_s' : 300, 'n' : 1.45}\n",
    "\n",
    "#Materials info for NIR excitation (wavelength 488nm)\n",
    "nirExSkin = {'u_a' : 2.0, 'u_s' : 241, 'n' : 1.37}\n",
    "nirExFat = {'u_a' : 1.4, 'u_s' : 136, 'n' : 1.45}\n",
    "nirExDuct = {'u_a' : 0.2, 'u_s' : 169, 'n' : 1.42}\n",
    "nirExCancer = {'u_a' : 1.0, 'u_s' : 150, 'n' : 1.45}"
   ]
  },
  {
   "cell_type": "code",
   "execution_count": null,
   "metadata": {},
   "outputs": [],
   "source": [
    "#step 1, generate starting position\n",
    "pointOnPlane = func.pointOnPlane(point, vector)\n",
    "print(pointOnPlane)"
   ]
  },
  {
   "cell_type": "code",
   "execution_count": null,
   "metadata": {},
   "outputs": [],
   "source": [
    "#step 2, generate a photon with the given start position and direction\n",
    "photon = func.PhotonClass(1, pointOnPlane, vector)\n",
    "print(photon.position, photon.direction, photon.weight)"
   ]
  },
  {
   "cell_type": "code",
   "execution_count": null,
   "metadata": {},
   "outputs": [],
   "source": [
    "#step 3, determine stepSize (assuming we're in skin)\n",
    "step = func.determineStepSize(visExSkin['u_a'] + visExSkin['u_s'], scaleFactor)\n",
    "print(step)"
   ]
  },
  {
   "cell_type": "code",
   "execution_count": null,
   "metadata": {},
   "outputs": [],
   "source": [
    "#step 4, Move the photon\n",
    "photon.movePhoton(step)\n",
    "print(photon.position)"
   ]
  },
  {
   "cell_type": "code",
   "execution_count": null,
   "metadata": {},
   "outputs": [],
   "source": [
    "#step 5, remove weight from photon\n",
    "photon.removeWeight(visExSkin['u_a'], visExSkin['u_s'])\n",
    "print(photon.weight)"
   ]
  },
  {
   "cell_type": "code",
   "execution_count": null,
   "metadata": {},
   "outputs": [],
   "source": [
    "#step 6, Scatter the photon\n",
    "photon.scatterPhoton()\n",
    "print(photon.direction)"
   ]
  },
  {
   "cell_type": "markdown",
   "metadata": {},
   "source": [
    "## Now as a loop"
   ]
  },
  {
   "cell_type": "code",
   "execution_count": null,
   "metadata": {},
   "outputs": [],
   "source": [
    "path = []\n",
    "\n",
    "pointOnPlane = func.pointOnPlane(point, vector)\n",
    "photon = func.PhotonClass(1, pointOnPlane, vector)\n",
    "\n",
    "while photon.weight > 0.01:\n",
    "    path.append(photon.position)\n",
    "    step = func.determineStepSize(nirExFat['u_a'] + nirExFat['u_s'], scaleFactor)\n",
    "    photon.movePhoton(step)\n",
    "    photon.removeWeight(nirExFat['u_a'], nirExFat['u_s'])\n",
    "    photon.scatterPhoton()\n",
    "    \n",
    "path = np.array(path)"
   ]
  },
  {
   "cell_type": "code",
   "execution_count": null,
   "metadata": {},
   "outputs": [],
   "source": [
    "path"
   ]
  },
  {
   "cell_type": "code",
   "execution_count": null,
   "metadata": {},
   "outputs": [],
   "source": [
    "#end to end distance of phton path\n",
    "print(sum((path[0] - path[-1])**(2))**(1/2), \"steps:\", len(path))\n"
   ]
  },
  {
   "cell_type": "code",
   "execution_count": null,
   "metadata": {},
   "outputs": [],
   "source": [
    "%matplotlib notebook\n",
    "from mpl_toolkits.mplot3d import Axes3D\n",
    "fig = plt.figure()\n",
    "ax = fig.add_subplot(111, projection = '3d')\n",
    "ax.scatter(path[:,0], path[:,1], path[:, 2])"
   ]
  },
  {
   "cell_type": "code",
   "execution_count": null,
   "metadata": {},
   "outputs": [],
   "source": [
    "Trying parallelisation\n"
   ]
  },
  {
   "cell_type": "code",
   "execution_count": null,
   "metadata": {},
   "outputs": [],
   "source": []
  },
  {
   "cell_type": "code",
   "execution_count": null,
   "metadata": {},
   "outputs": [],
   "source": [
    "import numpy as np\n",
    "from numpy import random as rnd\n",
    "import Functions as func\n",
    "import matplotlib.pyplot as plt\n",
    "import matplotlib as mpl\n",
    "#Variables to be declared in the beginning\n",
    "#for the source\n",
    "def everything(dummy_no):\n",
    "    point = np.array([10, -3, 9]) #The coordinate in space where the source is Should be a numpy array\n",
    "    vector = np.array([1, 1, 1]) #direction the source is pointing, should be a numpy array\n",
    "\n",
    "    #scalingFactor to go from units of cm to 0.33mm\n",
    "    scaleFactor = 1 / (0.33*10**(-1))\n",
    "\n",
    "    #Materials info for VIS excitation (wavelength 488nm)\n",
    "    visExSkin = {'u_a' : 6.0, 'u_s' : 625, 'n' : 1.37}\n",
    "    visExfat = {'u_a' : 6.0, 'u_s' : 310, 'n' : 1.45}\n",
    "    visExDuct = {'u_a' : 0.2, 'u_s' : 317, 'n' : 1.42}\n",
    "    cvisExCancer = {'u_a' : 1.0, 'u_s' : 300, 'n' : 1.45}\n",
    "\n",
    "    #Materials info for NIR excitation (wavelength 488nm)\n",
    "    nirExSkin = {'u_a' : 2.0, 'u_s' : 241, 'n' : 1.37}\n",
    "    nirExFat = {'u_a' : 1.4, 'u_s' : 136, 'n' : 1.45}\n",
    "    nirExDuct = {'u_a' : 0.2, 'u_s' : 169, 'n' : 1.42}\n",
    "    nirExCancer = {'u_a' : 1.0, 'u_s' : 150, 'n' : 1.45}\n",
    "    #step 1, generate starting position\n",
    "    pointOnPlane = func.pointOnPlane(point, vector)\n",
    "    print(pointOnPlane)\n",
    "    #step 2, generate a photon with the given start position and direction\n",
    "    photon = func.PhotonClass(1, pointOnPlane, vector)\n",
    "    print(photon.position, photon.direction, photon.weight)\n",
    "    #step 3, determine stepSize (assuming we're in skin)\n",
    "    step = func.determineStepSize(visExSkin['u_a'] + visExSkin['u_s'], scaleFactor)\n",
    "    print(step)\n",
    "    #step 4, Move the photon\n",
    "    photon.movePhoton(step)\n",
    "    print(photon.position)\n",
    "    #step 5, remove weight from photon\n",
    "    photon.removeWeight(visExSkin['u_a'], visExSkin['u_s'])\n",
    "    print(photon.weight)\n",
    "    #step 6, Scatter the photon\n",
    "    photon.scatterPhoton()\n",
    "    print(photon.direction)\n",
    "    path = []\n",
    "\n",
    "    pointOnPlane = func.pointOnPlane(point, vector)\n",
    "    photon = func.PhotonClass(1, pointOnPlane, vector)\n",
    "\n",
    "    while photon.weight > 0.01:\n",
    "        path.append(photon.position)\n",
    "        step = func.determineStepSize(nirExFat['u_a'] + nirExFat['u_s'], scaleFactor)\n",
    "        photon.movePhoton(step)\n",
    "        photon.removeWeight(nirExFat['u_a'], nirExFat['u_s'])\n",
    "        photon.scatterPhoton()\n",
    "\n",
    "    path = np.array(path)\n",
    "    %matplotlib notebook\n",
    "    from mpl_toolkits.mplot3d import Axes3D\n",
    "    fig = plt.figure()\n",
    "    ax = fig.add_subplot(111, projection = '3d')\n",
    "    ax.scatter(path[:,0], path[:,1], path[:, 2])"
   ]
  },
  {
   "cell_type": "code",
   "execution_count": null,
   "metadata": {},
   "outputs": [],
   "source": [
    "everything()"
   ]
  },
  {
   "cell_type": "code",
   "execution_count": null,
   "metadata": {},
   "outputs": [],
   "source": [
    "Pool:"
   ]
  },
  {
   "cell_type": "code",
   "execution_count": null,
   "metadata": {},
   "outputs": [],
   "source": [
    "import multiprocessing as mp\n",
    "\n",
    "\n",
    "def main():\n",
    "  pool = mp.Pool(mp.cpu_count())\n",
    "  result = pool.map(everything,[0,1,2,3,4])\n",
    "\n",
    "  print(result)\n",
    "  print(result_set_2)\n",
    "\n",
    "if __name__ == \"__main__\":\n",
    "  main()"
   ]
  },
  {
   "cell_type": "code",
   "execution_count": null,
   "metadata": {},
   "outputs": [],
   "source": [
    "Process, Queue:"
   ]
  },
  {
   "cell_type": "code",
   "execution_count": 1,
   "metadata": {},
   "outputs": [],
   "source": [
    "def everything_sans_plot(queue):\n",
    "    point = np.array([10, -3, 9]) #The coordinate in space where the source is Should be a numpy array\n",
    "    vector = np.array([1, 1, 1]) #direction the source is pointing, should be a numpy array\n",
    "\n",
    "    #scalingFactor to go from units of cm to 0.33mm\n",
    "    scaleFactor = 1 / (0.33*10**(-1))\n",
    "\n",
    "    #Materials info for VIS excitation (wavelength 488nm)\n",
    "    visExSkin = {'u_a' : 6.0, 'u_s' : 625, 'n' : 1.37}\n",
    "    visExfat = {'u_a' : 6.0, 'u_s' : 310, 'n' : 1.45}\n",
    "    visExDuct = {'u_a' : 0.2, 'u_s' : 317, 'n' : 1.42}\n",
    "    cvisExCancer = {'u_a' : 1.0, 'u_s' : 300, 'n' : 1.45}\n",
    "\n",
    "    #Materials info for NIR excitation (wavelength 488nm)\n",
    "    nirExSkin = {'u_a' : 2.0, 'u_s' : 241, 'n' : 1.37}\n",
    "    nirExFat = {'u_a' : 1.4, 'u_s' : 136, 'n' : 1.45}\n",
    "    nirExDuct = {'u_a' : 0.2, 'u_s' : 169, 'n' : 1.42}\n",
    "    nirExCancer = {'u_a' : 1.0, 'u_s' : 150, 'n' : 1.45}\n",
    "    #step 1, generate starting position\n",
    "    pointOnPlane = func.pointOnPlane(point, vector)\n",
    "    print(pointOnPlane)\n",
    "    #step 2, generate a photon with the given start position and direction\n",
    "    photon = func.PhotonClass(1, pointOnPlane, vector)\n",
    "    print(photon.position, photon.direction, photon.weight)\n",
    "    #step 3, determine stepSize (assuming we're in skin)\n",
    "    step = func.determineStepSize(visExSkin['u_a'] + visExSkin['u_s'], scaleFactor)\n",
    "    print(step)\n",
    "    #step 4, Move the photon\n",
    "    photon.movePhoton(step)\n",
    "    print(photon.position)\n",
    "    #step 5, remove weight from photon\n",
    "    photon.removeWeight(visExSkin['u_a'], visExSkin['u_s'])\n",
    "    print(photon.weight)\n",
    "    #step 6, Scatter the photon\n",
    "    photon.scatterPhoton()\n",
    "    print(photon.direction)\n",
    "    path = []\n",
    "\n",
    "    pointOnPlane = func.pointOnPlane(point, vector)\n",
    "    photon = func.PhotonClass(1, pointOnPlane, vector)\n",
    "\n",
    "    while photon.weight > 0.01:\n",
    "        path.append(photon.position)\n",
    "        step = func.determineStepSize(nirExFat['u_a'] + nirExFat['u_s'], scaleFactor)\n",
    "        photon.movePhoton(step)\n",
    "        photon.removeWeight(nirExFat['u_a'], nirExFat['u_s'])\n",
    "        photon.scatterPhoton()\n",
    "    queue.put(path)\n",
    "def path_plotting(results):\n",
    "    for i in range(len(results)):\n",
    "        path = np.array(results[i])\n",
    "        %matplotlib notebook\n",
    "        from mpl_toolkits.mplot3d import Axes3D\n",
    "        fig = plt.figure()\n",
    "        ax = fig.add_subplot(111, projection = '3d')\n",
    "        ax.scatter(path[:,0], path[:,1], path[:, 2])\n",
    "    return"
   ]
  },
  {
   "cell_type": "code",
   "execution_count": null,
   "metadata": {},
   "outputs": [],
   "source": [
    "from multiprocessing import Process, Queue\n",
    "import random\n",
    "\n",
    "if __name__ == \"__main__\":\n",
    "    queue = Queue()\n",
    "    number_of_photons=5\n",
    "    processes = [Process(target=everything_sans_plot, args=(queue,)) for x in range(number_of_photons)]\n",
    "\n",
    "    for p in processes:\n",
    "        p.start()\n",
    "\n",
    "    for p in processes:\n",
    "        p.join()\n",
    "\n",
    "    results = [queue.get() for p in processes]\n",
    "\n",
    "    path_plotting(results)"
   ]
  },
  {
   "cell_type": "code",
   "execution_count": null,
   "metadata": {},
   "outputs": [],
   "source": []
  }
 ],
 "metadata": {
  "kernelspec": {
   "display_name": "Python 3",
   "language": "python",
   "name": "python3"
  },
  "language_info": {
   "codemirror_mode": {
    "name": "ipython",
    "version": 3
   },
   "file_extension": ".py",
   "mimetype": "text/x-python",
   "name": "python",
   "nbconvert_exporter": "python",
   "pygments_lexer": "ipython3",
   "version": "3.8.3"
  }
 },
 "nbformat": 4,
 "nbformat_minor": 2
}
